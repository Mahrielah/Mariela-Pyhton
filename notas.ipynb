{
 "cells": [
  {
   "cell_type": "markdown",
   "metadata": {},
   "source": [
    " # Clase 1 - Python"
   ]
  },
  {
   "cell_type": "markdown",
   "metadata": {},
   "source": [
    "\n"
   ]
  },
  {
   "cell_type": "markdown",
   "metadata": {},
   "source": [
    "## Contenido\n",
    "\n",
    "- IntroducciÃ³n y herramientas\n",
    "- Utilidades y tipos de datos\n",
    "- Numpy\n",
    "- Basics de AnÃ¡lisis de Datos\n",
    "\n"
   ]
  },
  {
   "cell_type": "markdown",
   "metadata": {},
   "source": [
    "# IntroducciÃ³n y herramientas\n",
    "\n",
    "## Â¿QuÃ© es Python?\n",
    "- Desarrollado por Guido Van Rossum\n",
    "- De propÃ³sito general: puedes construir lo que quieras\n",
    "- Open source, es decir, es *gratis*\n",
    "- Lenguaje orientado a objetos: todo es un objeto\n",
    "- Es fÃ¡cil hacer paquetes para Python, tambiÃ©n para Ciencia de Datos\n",
    "- Vamos a ver Python enfocado a Ciencia de Datos\n",
    "    - CÃ³mo guardar datos\n",
    "    - CÃ³mo limpiar datos\n",
    "    - CÃ³mo manipular datos\n",
    "    - Herramientas para anÃ¡lisis\n",
    "- Hay muchas versiones de Python, vamos a trabajar con la 3.7\n",
    "    - Solamente si van a trabajar con [Theano](http://deeplearning.net/software/theano/) recomienda la 2.7\n",
    "\n",
    "\n",
    "## Â¿CÃ³mo vamos a trabajar?\n",
    "- Bajar [Anaconda](https://www.anaconda.com/)\n",
    "- Bajar [Jupyter](http://jupyter.org/)\n",
    "- Bajar [Spyder](https://www.spyder-ide.org/)\n",
    "- Shell de Python:\n",
    "    - Es como la consola de R\n",
    "    - Permite escribir cÃ³digo para experimentar\n",
    "- Scripts:\n",
    "    - Son archivos de texto reproducibles, tienen la extensiÃ³n *.py*\n",
    "    - Contienen una serie de comandos en Python\n",
    "    - Similares a escribir en el shell de IPython\n",
    "- Jupyter Notebook\n",
    "    - Es un cuaderno que nos permite combinar tanto texto como cÃ³digo\n",
    "    - El texto estÃ¡ escrito con formato Markdown igual que RMarkdown :)\n",
    "- Spyder\n",
    "    - Muy parecido a RStudio pero para Python\n",
    "    - Es uno de los IDES mÃ¡s populares\n",
    "\n",
    "### Â¿QuÃ© es Anaconda?\n",
    "\n",
    "- Es una distribuciÃ³n de Python y de R, la mÃ¡s famosa para Ciencia de Datos\n",
    "- 6 millones de usuarios que hacen ciencia de datos\n",
    "- EstÃ¡ndar de la industria para desarrollar, probar y entrenar modelos en una sola mÃ¡quina\n",
    "- Permite la colaboraciÃ³n de muchos usuarios en tiempo real\n",
    "- Permite crear ambientes con versiones especÃ­ficas de Python y paquetes instalados: ENCAPSULAMIENTO\n",
    "- Esto es un sÃºper plus en Python porque tenemos muchas versiones diferentes que son compatibles con algunos paquetes pero no con otros\n",
    "- Es fÃ¡cil crear una seria de paquetes y versiones que sean distribuibles, i.e. que pueda compartir con otros usuarios, incluyendo todas sus dependencias\n",
    "- Cuando instalamos Anaconda, podemos crear un ambiente y ponerle la versiÃ³n de Python que queramos\n",
    "- Anaconda ya tiene precargados el NoteBook de Jupyer y otros paquetes para ciencia de datos\n",
    "\n",
    "#### CÃ³mo usamos Anaconda\n",
    "\n",
    "- CreaciÃ³n de [ambientes](https://conda.io/docs/user-guide/tasks/manage-environments.html#activate-env)\n",
    "\n",
    "1. Para crear un ambiente de cierta versiÃ³n de Python:\n",
    "\n",
    "`conda create -n myenv python=3.4`\n",
    "\n",
    "2. Para instalar un paquete\n",
    "\n",
    "`conda install -n myenv scipy`\n",
    ".\n",
    "    - Si queremos una versiÃ³n especÃ­fica del paquete: \n",
    "    \n",
    "  `conda install -n myenv scipy=0.15.0`\n",
    "     \n",
    "3. Si queremos instalar de una vez Python con ciertos paquetes\n",
    "\n",
    "`conda create -n myenv python=3.4 scipy=0.15.0 astroid babel`\n",
    "\n",
    "4. Si queremos clonar un ambiente:\n",
    "\n",
    "`conda create --name myclone --clone myenv`\n",
    "\n",
    "5. Para activar un ambiente\n",
    "\n",
    "    - Windows: `activate myenv`\n",
    "    - macOS y Linux: `source activate myenv`\n",
    "    \n",
    "6. Desactivar un ambiente:\n",
    "\n",
    "    - Windows: `deactivate`\n",
    "    - macOS y Linux: `source deactivate`\n",
    "\n",
    "7. Para ver listado de ambientes\n",
    "\n",
    "`conda info --envs`\n",
    "\n",
    "8. Para saber quÃ© ambiente estÃ¡ corriendo, me fijo en el que tiene el asterisco\n",
    "\n",
    "`conda info --envs`\n",
    "\n",
    "9. Para saber quÃ© paquetes tiene instalados un ambiente\n",
    "\n",
    "`conda list -n myenv`\n",
    "\n",
    "10. Para saber quÃ© paquetes tiene instalados mi ambiente corriendo\n",
    "\n",
    "`conda list`\n",
    "\n",
    "11. Para usar el comando `pip` (para instalar paquetes en Python), usamos:\n",
    "\n",
    "`conda install -n myenv pip\n",
    "source activate myenv\n",
    "pip <pip_subcommand>`\n",
    "\n",
    "12. Para eliminar un ambiente\n",
    "\n",
    "`conda remove --name myenv --all`\n",
    "\n",
    "> **EJERCICIO.** Crear un ambiente con Python 3.7 en Anaconda, instÃ¡lale el paquete `pip` y finalmente actÃ­valo. CerciÃ³rate que ese nuevo ambiente estÃ¡ instalado.\n",
    "\n",
    "\n",
    "### Â¿QuÃ© es el Notebook de Jupyter?\n",
    "\n",
    "- [Jupyter Notebook](http://jupyter.org/) es una aplicaciÃ³n web libre que permite crear y compartir documentos con texto,cÃ³digo, ecuaciones, visualizaciones\n",
    "- Se usa principalmente para hacer ciencia de datos (limpieza, transformaciÃ³n, modelado estadÃ­stico, machine learning, simulaciÃ³n, visualizaciÃ³n)\n",
    "- Puedes embeber cÃ³digo, grÃ¡ficos, urls, videos y texto usando como sintaxis markdown\n",
    "- Se puede usar con:\n",
    "    - Python\n",
    "    - Julia\n",
    "    - R\n",
    "    - C++\n",
    "    - Scala\n",
    "- Features:\n",
    "    - Trabaja con varios lenguajes\n",
    "    - Puedes compartir los notebooks por email, Dropbox, GitHub y el Jupyter Notebook Viewer\n",
    "    - Output interactivo: HTML, images, videos, LaTeX\n",
    "    - IntegraciÃ³n con herramientas de Big Data de Apache Spark desde Python (Pyspark, la API de Python para Spark),  R  (Sparklyr) y Scala. Es decir, se puede explorar lo mismo con pandas, scikit-learn, ggplot2, Tensorflow\n",
    "    - Se puede exportar en muchos formatos:\n",
    "            - html\n",
    "            - .ipynb (notebook)\n",
    "            - pdf\n",
    "            - LaTex\n",
    "    \n",
    "\n",
    "\n",
    "#### Â¿CÃ³mo instalamos Jupyter?\n",
    "\n",
    "Para tener *Jupyter*, necesitamos tener Python>=3.3 o Python 2.7\n",
    "\n",
    "2 maneras:\n",
    "\n",
    "- Usando *Anaconda*, que ya trae Python y Jupyter \n",
    "- Usando `pip`python3 -m pip install --upgrade pip. `pip` es el manejador de paquetes de Python, con ese comando instalaremos los paquetes.\n",
    "\n",
    "`python3 -m pip install jupyter`\n",
    "\n",
    "\n",
    "#### Â¿CÃ³mo abrimos un notebook de Jupyter?\n",
    "\n",
    "- Simplemente creamos nuestro ambiente de Python en Anaconda, y escribimos `jupyter notebook`. Se nos abrirÃ¡ un *Jupyter* con \n",
    "\n",
    "- Si no instalamos *Anaconda*, entonces simplemente ponemos `jupyter notebook` en la terminal\n",
    "\n",
    "- Â¿CÃ³mo comparto mi notebook de Python?\n",
    "\n",
    "#### Â¿CÃ³mo corremos los chunks de cÃ³digo en un notebook de Jupyer?\n",
    "\n",
    "- Una caja de texto o cÃ³digo se corre de varias maneras:\n",
    "- Individualmente pulsando el botÃ³n *Run* o `Shift+Enter`\n",
    "- Individualmente en el menÃº *Cell*\n",
    "- Todas con el menÃº `Cell` con la opciÃ³n *Rull all*\n",
    "- Opciones customizables usando el menÃº *Cell*\n",
    "\n",
    "#### Â¿CÃ³mo compartimos nuestro notebook de Jupyter?\n",
    "\n",
    "1. Hostear tu notebook de Python en un repo de Github. Esto tiene la ventaja de que estÃ¡ montado en la red.\n",
    "    - Ir [NBViewer](http://nbviewer.ipython.org/) y pegar el URL de Github\n",
    "Ã³\n",
    "\n",
    "2. Email Ã³\n",
    "\n",
    "3. Dropbox\n",
    "\n",
    "4. Al parecer aÃºn no se puede hostear en Bitbucket. Se supone que esto es una aplicaciÃ³n para hacerlo: [aplicaciÃ³n](https://bitbucket.org/bitbucket/bitbucket-nbviewer/src/master/)\n",
    "\n",
    ">**EJERCICIO.** Dentro de tu ambiente de Python que creaste, abre un notebook de Jupyter, escribe tu nombre y expÃ³rtalo como Notebook .ipynb. Observa que tambiÃ©n puedes ver tus proyectos de R en el mismo notebook de Jupyter pero observa tambiÃ©n que todo esto estÃ¡ en ambiente local.\n",
    "\n",
    ">**EJERCICIO. ** Hostea tu Notebook en [NBViewer](http://nbviewer.ipython.org/). Hint: Debes abrir una [cuenta en Github](https://reproducible-science-curriculum.github.io/sharing-RR-Jupyter/01-sharing-github/)\n",
    "\n",
    "### Â¿QuÃ© es Spyder?\n",
    "- [Spyder](https://www.spyder-ide.org/) es un IDE (Integrated Development Environment) escrito para trabajar con Python\n",
    "- EstÃ¡ orientado al cÃ³mputo cientÃ­fico\n",
    "- Es muy parecido a RStudio, asÃ­ que serÃ¡ sencillo usarlo\n",
    "- Viene con un editor para escribir cÃ³digo, una consola para evaluar y ver resultados\n",
    "- TambiÃ©n viene con una vista de variables para ver las que se han usado\n",
    "- Otra opciÃ³n de editor es [Pycharm](https://www.jetbrains.com/pycharm/), sin embargo esta IDE es mucho mÃ¡s compleja y estÃ¡ mÃ¡s orientada a Desarrolladores\n",
    "\n",
    ">**EJERCICIO**. Abre Spyder desde la consola, crea un archivo que imprima tu nombre: `print(\"My nombre es ...\")` y cÃ³rrelo en la consola.\n",
    "\n",
    "\n",
    "### Resumen\n",
    "\n",
    "![](software_python.png)"
   ]
  },
  {
   "cell_type": "markdown",
   "metadata": {},
   "source": [
    "## Utilidades y tipos de datos \n",
    "\n",
    "### Preliminares\n",
    "- Comentarios se escriben con `#`\n",
    "- Python puede usarse como calculadora:\n",
    "    - ExponenciaciÃ³n: 2**4\n",
    "    - MÃ³dulo: `5%2`\n",
    "- DeclaraciÃ³n de variables se hacen con `=`\n",
    "- Ayuda de pide con `help()`\n",
    "- Ver en quÃ© versiÃ³n de Python estÃ¡s trabajando: `sys.version_info`. Verifica que es la 3.7"
   ]
  },
  {
   "cell_type": "code",
   "execution_count": 1,
   "metadata": {},
   "outputs": [
    {
     "data": {
      "text/plain": [
       "sys.version_info(major=3, minor=7, micro=0, releaselevel='final', serial=0)"
      ]
     },
     "execution_count": 1,
     "metadata": {},
     "output_type": "execute_result"
    }
   ],
   "source": [
    "import sys \n",
    "sys.version_info"
   ]
  },
  {
   "cell_type": "code",
   "execution_count": 2,
   "metadata": {},
   "outputs": [
    {
     "name": "stdout",
     "output_type": "stream",
     "text": [
      "AsÃ­ declaramos una variable: \n",
      "\n",
      "\n",
      "Y la imprimimos: \n",
      "2\n"
     ]
    }
   ],
   "source": [
    "print(\"AsÃ­ declaramos una variable: \")\n",
    "\n",
    "x=2\n",
    "\n",
    "print(\"\\n\")\n",
    "print(\"Y la imprimimos: \")\n",
    "print(x)"
   ]
  },
  {
   "cell_type": "markdown",
   "metadata": {},
   "source": [
    "### Tipos bÃ¡sicos\n",
    "\n",
    "- Tipos de datos\n",
    "    - `int`: enteros\n",
    "    - `float`: punto flotante, tiene parte entera y decimal separada por punto\n",
    "    - `str`: strings\n",
    "    - `bool`: booleanos\n",
    "- Cada tipo tiene una funcionalidad distinta asociada\n",
    "- El tipado en Python es *dinÃ¡mico*, lo cual significa que el tipo de variable no tiene que ser declarado al inicio, pues el tipo de variable se conoce hasta que se corre el cÃ³digo\n",
    "- Para saber el tipo de variables: `type()`"
   ]
  },
  {
   "cell_type": "code",
   "execution_count": 3,
   "metadata": {},
   "outputs": [
    {
     "name": "stdout",
     "output_type": "stream",
     "text": [
      "Enteros: \n"
     ]
    },
    {
     "data": {
      "text/plain": [
       "int"
      ]
     },
     "execution_count": 3,
     "metadata": {},
     "output_type": "execute_result"
    }
   ],
   "source": [
    "print(\"Enteros: \")\n",
    "type(5)"
   ]
  },
  {
   "cell_type": "code",
   "execution_count": 4,
   "metadata": {},
   "outputs": [
    {
     "name": "stdout",
     "output_type": "stream",
     "text": [
      "Floats: \n"
     ]
    },
    {
     "data": {
      "text/plain": [
       "float"
      ]
     },
     "execution_count": 4,
     "metadata": {},
     "output_type": "execute_result"
    }
   ],
   "source": [
    "print(\"Floats: \")\n",
    "#float\n",
    "type(1.10)"
   ]
  },
  {
   "cell_type": "code",
   "execution_count": 24,
   "metadata": {},
   "outputs": [
    {
     "name": "stdout",
     "output_type": "stream",
     "text": [
      "Strings tenemos dos maneras de escribirlos: \n",
      "hola\n",
      "hola\n",
      "<class 'str'>\n",
      "Los tipos de datos se comportan diferente\n"
     ]
    },
    {
     "data": {
      "text/plain": [
       "'sepegasepegasepegasepegasepegasepegasepegasepegasepegasepega'"
      ]
     },
     "execution_count": 24,
     "metadata": {},
     "output_type": "execute_result"
    }
   ],
   "source": [
    "print(\"Strings tenemos dos maneras de escribirlos: \")\n",
    "print(\"hola\")\n",
    "print('hola')\n",
    "print(type(\"hola\"))\n",
    "\n",
    "print(\"Los tipos de datos se comportan diferente\")\n",
    "\"se\"+\"pega\"*10\n",
    "(\"se\"+\"pega\")*10"
   ]
  },
  {
   "cell_type": "markdown",
   "metadata": {},
   "source": [
    "### Cast\n",
    "- `int()`\n",
    "- `float()`\n",
    "- `bool()`\n",
    "- `str()`\n",
    "\n",
    "### AsignaciÃ³n de variables\n",
    "- Es por *referencia*, no por *valor* (recordar que en R es por *valor*)"
   ]
  },
  {
   "cell_type": "code",
   "execution_count": 6,
   "metadata": {},
   "outputs": [
    {
     "name": "stdout",
     "output_type": "stream",
     "text": [
      "Asigno a x una lista\n",
      "[1, 2, 3]\n",
      "\n",
      "\n",
      "Ahora guardo en y lo que estaba en x\n",
      "\n",
      "\n",
      "Ahora modifico la primer entrada de y en 100\n",
      "\n",
      "\n",
      "Imprimo x y me doy cuenta que el valor tambiÃ©n cambiÃ³\n",
      "Esto es porque la asignaciÃ³n es por referencia, no por valor\n",
      "[100, 2, 3]\n",
      "\n",
      "\n",
      "Ahora si en vez de lo anterior convierto a lista:\n",
      "Vuelvo a modificar la primer entrada de y en 1000000\n",
      "ahora 'y' es [1000000, 2, 3]\n",
      "\n",
      "\n",
      "Pero el valor de x no se modifico, Â¿por quÃ©?\n",
      "[100, 2, 3]\n"
     ]
    }
   ],
   "source": [
    "print(\"Asigno a x una lista\")\n",
    "x = [1,2,3]\n",
    "print(x)\n",
    "\n",
    "print(\"\\n\")\n",
    "print(\"Ahora guardo en y lo que estaba en x\")\n",
    "y = x\n",
    "\n",
    "print(\"\\n\")\n",
    "y[0] =100\n",
    "print(\"Ahora modifico la primer entrada de y en \" + str(y[0]))\n",
    "\n",
    "\n",
    "\n",
    "print(\"\\n\")\n",
    "print(\"Imprimo x y me doy cuenta que el valor tambiÃ©n cambiÃ³\")\n",
    "print(\"Esto es porque la asignaciÃ³n es por referencia, no por valor\")\n",
    "print(x)\n",
    "\n",
    "print(\"\\n\")\n",
    "print(\"Ahora si en vez de lo anterior convierto a lista:\")\n",
    "y=list(x)\n",
    "\n",
    "y[0]=1000000\n",
    "print(\"Vuelvo a modificar la primer entrada de y en \" + str(y[0]))\n",
    "print(\"ahora 'y' es \" + str(y))\n",
    "\n",
    "print(\"\\n\")\n",
    "print(\"Pero el valor de x no se modifico, Â¿por quÃ©?\")\n",
    "\n",
    "print(x)"
   ]
  },
  {
   "cell_type": "markdown",
   "metadata": {},
   "source": [
    "### ImpresiÃ³n\n",
    "- Se hace usando `print()`\n",
    "- Si se van a imprimir varios tipos de datos, se tiene que hacer *cast* a string antes "
   ]
  },
  {
   "cell_type": "code",
   "execution_count": 7,
   "metadata": {},
   "outputs": [
    {
     "name": "stdout",
     "output_type": "stream",
     "text": [
      "Hola, tengo 20 aÃ±os\n"
     ]
    }
   ],
   "source": [
    "x = 20\n",
    "print(\"Hola, tengo \" + str(x) + \" aÃ±os\")"
   ]
  },
  {
   "cell_type": "code",
   "execution_count": 8,
   "metadata": {},
   "outputs": [
    {
     "name": "stdout",
     "output_type": "stream",
     "text": [
      "50 20 10\n"
     ]
    }
   ],
   "source": [
    "print(x+30, x, 10)\n"
   ]
  },
  {
   "cell_type": "code",
   "execution_count": 9,
   "metadata": {},
   "outputs": [
    {
     "data": {
      "text/plain": [
       "1"
      ]
     },
     "execution_count": 9,
     "metadata": {},
     "output_type": "execute_result"
    }
   ],
   "source": [
    "True+False"
   ]
  },
  {
   "cell_type": "markdown",
   "metadata": {},
   "source": [
    "> **EJERCICIO.** Â¿CÃ³mo difiere Python de R con respecto a la forma de impriir?"
   ]
  },
  {
   "cell_type": "markdown",
   "metadata": {},
   "source": [
    "### Listas\n",
    "- Otro tipo de dato\n",
    "- Sintaxis: `[x, y, z]`\n",
    "- ColleciÃ³n de valores\n",
    "- Pueden tener cualquier tipo de dato (incluso listas!)\n",
    "- Con `len` puedo ver su longitud"
   ]
  },
  {
   "cell_type": "code",
   "execution_count": 10,
   "metadata": {},
   "outputs": [
    {
     "name": "stdout",
     "output_type": "stream",
     "text": [
      "['hola', 'tengo', 10, ['aÃ±os', 'y contanto']]\n",
      "4\n"
     ]
    }
   ],
   "source": [
    "my_lista  = [\"hola\", \"tengo\", 10, [\"aÃ±os\", \"y contanto\"]]\n",
    "print(my_lista)\n",
    "print(len(my_lista))"
   ]
  },
  {
   "cell_type": "markdown",
   "metadata": {},
   "source": [
    "#### Acceso a listas:\n",
    "\n",
    "    - IndexaciÃ³n: se hace usando `[]` al elemento que queremos accesar. \n",
    "        - Se empieza por *cero*, es decir `[0]` es el primer elemento\n",
    "        - Podemos accesar al Ãºltimo elemento usando `[-1]`\n",
    "    - Rangos: para obtener un subconjunto de la muestra, se hace usando `[inicio: final]`\n",
    "        - El inicio es inclusivo, el final es exclusivo, es decir, el final no se incluye\n",
    "    - ManipulaciÃ³n:\n",
    "        - Cambiar elementos: simplemente uso `[]` para acceder a los elementos\n",
    "        - AÃ±adir elementos: lo agrego usando `+` y el elemento a aÃ±adir en corchetes\n",
    "        - Eliminar elementos: uso `del[elemento]`"
   ]
  },
  {
   "cell_type": "code",
   "execution_count": 11,
   "metadata": {},
   "outputs": [
    {
     "name": "stdout",
     "output_type": "stream",
     "text": [
      "hola\n",
      "['aÃ±os', 'y contanto']\n",
      "['hola', 'tengo']\n",
      "['hola', 'tengo', 10]\n",
      "['tengo', 10, ['aÃ±os', 'y contanto']]\n",
      "['hola', 'tengo', 10, ['aÃ±os', 'y contanto']]\n",
      "['ya', 'cambiÃ©', 20, ['aÃ±os', 'y contanto']]\n",
      "['ya', 'cambiÃ©', 20, ['aÃ±os', 'y contanto'], 'a lo seguro']\n",
      "['cambiÃ©', 20, ['aÃ±os', 'y contanto']]\n"
     ]
    }
   ],
   "source": [
    "print(my_lista[0])\n",
    "print(my_lista[-1])\n",
    "\n",
    "print(my_lista[0:2])\n",
    "print(my_lista[:3])\n",
    "print(my_lista[-3:])\n",
    "\n",
    "print(my_lista[0:])\n",
    "\n",
    "my_lista[2] = 20\n",
    "my_lista[0:2] =[\"ya\", \"cambiÃ©\"]\n",
    "print(my_lista)\n",
    "\n",
    "print(my_lista + [\"a lo seguro\"])\n",
    "\n",
    "del(my_lista[0])\n",
    "print(my_lista)"
   ]
  },
  {
   "cell_type": "markdown",
   "metadata": {},
   "source": [
    "### Operadores\n",
    "- Booleanos se escriben con letras *and, or, not*\n",
    "- Operadores `<,>,>=,<=,==,!=`"
   ]
  },
  {
   "cell_type": "code",
   "execution_count": 12,
   "metadata": {},
   "outputs": [
    {
     "name": "stdout",
     "output_type": "stream",
     "text": [
      "False\n",
      "True\n",
      "False\n",
      "False\n"
     ]
    }
   ],
   "source": [
    "v1=True\n",
    "v2=False\n",
    "print(v1 and v2) \n",
    "print(v1 or v2)  \n",
    "print(not v1)\n",
    "print(5>6)"
   ]
  },
  {
   "cell_type": "markdown",
   "metadata": {},
   "source": [
    "### Funciones"
   ]
  },
  {
   "cell_type": "markdown",
   "metadata": {},
   "source": [
    "- Como en MatemÃ¡ticas y se mandan llamar asÃ­ `output = nombre_funcion(input)`\n",
    "- `max()`, `round()`, `min()`"
   ]
  },
  {
   "cell_type": "code",
   "execution_count": 13,
   "metadata": {},
   "outputs": [
    {
     "name": "stdout",
     "output_type": "stream",
     "text": [
      "378\n",
      "2\n",
      "1.6\n"
     ]
    }
   ],
   "source": [
    "print(max([1, 378, 26, 8])), print(round(1.56)); print(round(1.56, 1))"
   ]
  },
  {
   "cell_type": "markdown",
   "metadata": {},
   "source": [
    "> **EJERCICIO.** Crea un vector y normalÃ­zalo (i.e. que todos los valores queden entre 0 y 1). DespuÃ©s veremos otra manera de normalizar."
   ]
  },
  {
   "cell_type": "markdown",
   "metadata": {},
   "source": [
    "### MÃ©todos\n",
    "- Todo en Python es objeto, tiene asociados mÃ©todos\n",
    "- Los mÃ©todos funciones de los objetos\n",
    "- Se mandan llamar llamar usando `.` antes del objeto\n",
    "- MÃ©todos comunes de listas: \n",
    "    - `.index(\"Fer\")` me da el Ã­ndice de un elemento que quiera buscar en mi lista\n",
    "    - `.count(\"cuentame\")` me da las veces que el elemento aparece en mi lista\n",
    "    - `.append(\"agrÃ©game\")` me permite aÃ±adir al final de mi lista un elemento\n",
    "    - `.remove(\"elimÃ­name\")` me permite remover el primer elemento que cumple con el patrÃ³n dado\n",
    "    - `.reverse` me pone el orden al revÃ©s\n",
    "- MÃ©todos comunes de strings:\n",
    "    - `.capitalize()` me pone la primer letra de mi string en mayÃºscula\n",
    "    - `.replace(\"ap\", \"rep\")` me remplaza todas las ocurrencias de \"ap\" en mi lista por \"rep\"\n",
    "    \n",
    "- Â¿CÃ³mo saber quÃ© strings hay para un tipo de dato? -> usamos `?`"
   ]
  },
  {
   "cell_type": "code",
   "execution_count": 14,
   "metadata": {},
   "outputs": [
    {
     "name": "stdout",
     "output_type": "stream",
     "text": [
      "['cambiÃ©', 20, ['aÃ±os', 'y contanto']]\n"
     ]
    },
    {
     "data": {
      "text/plain": [
       "1"
      ]
     },
     "execution_count": 14,
     "metadata": {},
     "output_type": "execute_result"
    }
   ],
   "source": [
    "print(my_lista)\n",
    "my_lista.index(20)"
   ]
  },
  {
   "cell_type": "code",
   "execution_count": 15,
   "metadata": {},
   "outputs": [
    {
     "data": {
      "text/plain": [
       "['cambiÃ©', 20, ['aÃ±os', 'y contanto']]"
      ]
     },
     "execution_count": 15,
     "metadata": {},
     "output_type": "execute_result"
    }
   ],
   "source": [
    "my_lista"
   ]
  },
  {
   "cell_type": "markdown",
   "metadata": {},
   "source": [
    ">EJERCICIO. Crea una lista y aplica cada una de las funciones de arriba"
   ]
  },
  {
   "cell_type": "markdown",
   "metadata": {},
   "source": [
    "### Paquetes\n",
    "- Son como scripts\n",
    "- Tienen definidas funciones y mÃ©todos\n",
    "- Se tienen miles de paquetes. Los hay para ciencia de Datos y son los que veremos como:\n",
    "    - **Numpy:** manejar arreglos\n",
    "    - **Matplotlib:** visualizaciÃ³n\n",
    "    - **Scikit-learn:** machine learning\n",
    "- Instalar:\n",
    "    - pip, un manejador de paquetes. Ir [aquÃ­](https://pip.readthedocs.io/en/stable/installing/) y bajar `get-pip.py`\n",
    "    - Ejecutar `get-pip.py` en la terminal y asÃ­ podemos usar `pip` para instalar paquetes\n",
    "- Importar paquete: `import nombre_paquete` -> esto importa toda la funcionalidad del paquete\n",
    "- Hay que dar alias al paquete para llamarlo `import numpy as np`\n",
    "- Si sÃ³lo queremos una funciÃ³n especÃ­fica del paquete podemos usar: `from numpy import array`"
   ]
  },
  {
   "cell_type": "code",
   "execution_count": 16,
   "metadata": {
    "scrolled": true
   },
   "outputs": [
    {
     "name": "stdout",
     "output_type": "stream",
     "text": [
      "\n",
      "\n",
      "Imprimimos arreglo:\n",
      "\n",
      "\n",
      "[10 30 40]\n"
     ]
    }
   ],
   "source": [
    "import numpy as np\n",
    "\n",
    "#array([10,30,40]) marca error porque el mÃ©todo del paquete se debe llamar\n",
    "\n",
    "print(\"\\n\")\n",
    "print(\"Imprimimos arreglo:\")\n",
    "print(\"\\n\")\n",
    "print(np.array([10,30,40]))"
   ]
  },
  {
   "cell_type": "code",
   "execution_count": 17,
   "metadata": {},
   "outputs": [
    {
     "name": "stdout",
     "output_type": "stream",
     "text": [
      "\n",
      "\n",
      "Si importamos 'array' igual nos imprime lo mismo\n",
      "\n",
      "\n",
      "[10 30 40]\n"
     ]
    }
   ],
   "source": [
    "from numpy import array\n",
    "\n",
    "print(\"\\n\")\n",
    "print(\"Si importamos 'array' igual nos imprime lo mismo\")\n",
    "print(\"\\n\")\n",
    "print(array([10,30,40]))"
   ]
  },
  {
   "cell_type": "markdown",
   "metadata": {},
   "source": [
    "## NumPy\n",
    "- Las listas son potentes pero no es posible aplicar muchas operaciones matemÃ¡ticas sobre ellas\n",
    "- **NumPy** viene de \"numeric Python\"\n",
    "- La arternativa a las listas es el \"NumPy array\", una librerÃ­a de Python muy optimizada\n",
    "- Se pueden hacer cÃ¡lculos matemÃ¡ticos sobre arreglos enteros fÃ¡cil y rÃ¡pidamente\n",
    "- Desventaja vs listas: no se pueden guardar varios tipos de datos. Si se guardan diferentes entonces se hace *coerciÃ³n*\n",
    "- Sin embargo, NumPy es muy rÃ¡pido justo gracias a que sÃ³lo guarda un tipo de dato\n",
    "- InstalaciÃ³n: `pip install numpy`\n",
    "- Se accesa igual que a las listas, usando `[]`\n"
   ]
  },
  {
   "cell_type": "code",
   "execution_count": 26,
   "metadata": {},
   "outputs": [
    {
     "name": "stdout",
     "output_type": "stream",
     "text": [
      "El vector construido es: \n",
      "[1 2 3 4 5]\n",
      "\n",
      "\n",
      "Podemos hacer operaciones aritmÃ©ticas sobre Ã©l:\n",
      "[ 9 18 27 36 45]\n",
      "\n",
      "\n",
      "Sin embargo no es posible guardar varios tipos de datos:\n",
      "['100' 'Fer' 'False']\n",
      "\n",
      "\n",
      "Pero sÃ­ es posible sumar arrays: \n",
      "[50 65 71]\n",
      "\n",
      "\n",
      "Y accesar a sus componentes usando corchetes: \n",
      "2\n",
      "\n",
      "\n",
      "Veamos quÃ© entradas son mayores que 3\n",
      "[False False False  True  True]\n",
      "\n",
      "\n",
      "Y a quÃ© elementos corresponden\n",
      "[4 5]\n"
     ]
    }
   ],
   "source": [
    "import numpy as np\n",
    "vec1 = np.array([1,2,3,4,5])\n",
    "\n",
    "print(\"El vector construido es: \")\n",
    "print(vec1)\n",
    "\n",
    "print(\"\\n\")\n",
    "print(\"Podemos hacer operaciones aritmÃ©ticas sobre Ã©l:\")\n",
    "print(vec1*3**2)\n",
    "\n",
    "print(\"\\n\")\n",
    "print(\"Sin embargo no es posible guardar varios tipos de datos:\")\n",
    "print(np.array([100, \"Fer\", False]))\n",
    "\n",
    "print(\"\\n\")\n",
    "print(\"Pero sÃ­ es posible sumar arrays: \")\n",
    "print(np.array([30, 40, 55]) + np.array([20, 25, 16]))\n",
    "\n",
    "print(\"\\n\")\n",
    "print(\"Y accesar a sus componentes usando corchetes: \")\n",
    "print(vec1[1])\n",
    "\n",
    "print(\"\\n\")\n",
    "print(\"Veamos quÃ© entradas son mayores que 3\")\n",
    "print(vec1>3)\n",
    "\n",
    "print(\"\\n\")\n",
    "print(\"Y a quÃ© elementos corresponden\")\n",
    "print(vec1[vec1>3])"
   ]
  },
  {
   "cell_type": "markdown",
   "metadata": {},
   "source": [
    "Operaciones Ãºtiles:\n"
   ]
  },
  {
   "cell_type": "code",
   "execution_count": 25,
   "metadata": {
    "scrolled": true
   },
   "outputs": [
    {
     "ename": "SyntaxError",
     "evalue": "invalid syntax (<ipython-input-25-c69bb0267227>, line 24)",
     "output_type": "error",
     "traceback": [
      "\u001b[0;36m  File \u001b[0;32m\"<ipython-input-25-c69bb0267227>\"\u001b[0;36m, line \u001b[0;32m24\u001b[0m\n\u001b[0;31m    v1 = np.array([1,2,3,4,5,6])\u001b[0m\n\u001b[0m     ^\u001b[0m\n\u001b[0;31mSyntaxError\u001b[0m\u001b[0;31m:\u001b[0m invalid syntax\n"
     ]
    }
   ],
   "source": [
    "#Imprimir los nÃºmeros pares\n",
    "arr = np.array([0, 1, 2, 3, 4, 5, 6, 7, 8, 9])\n",
    "print(arr[arr % 2 == 0])\n",
    "\n",
    "#Posiciones en comÃºn\n",
    "v1 = np.array([1,2,3,2,3,4,3,4,5,6])\n",
    "v2 = np.array([7,2,10,2,7,4,9,4,9,8])\n",
    "print(np.where(v1 == v2))\n",
    "\n",
    "# Imprimir solo los nÃºmeros que estÃ¡n en cierto rango\n",
    "a = np.arange(20)\n",
    "print(a)\n",
    "a[(a >= 10) & (a <= 20)]\n",
    "\n",
    "#Stack dos vectores verticalmente\n",
    "v1 = np.arange(10).reshape(2,-1)\n",
    "v2 = np.repeat(1, 10).reshape(2,-1)\n",
    "\n",
    "print(np.hstack([v1, v2])\n",
    "\n",
    "#Stack dos vectores horizontalmente\n",
    "#print(np.vstack([v1, v2]))\n",
    "      \n",
    "#Encontrar la intersecciÃ³n de dos vectores\n",
    "v1 = np.array([1,2,3,4,5,6])\n",
    "v2 = np.array([6,7,10,2,7,4,9,4,9,8])\n",
    "print(np.intersect1d(v1,v2))\n",
    "\n",
    "#Diferencia de dos vectores\n",
    "print(np.setdiff1d(v1,v2))\n",
    "\n",
    "#posiciones en donde los vectores son iguales      \n",
    "print(np.where(v1 == v2))\n",
    "      "
   ]
  },
  {
   "cell_type": "markdown",
   "metadata": {},
   "source": [
    "> **EJERCICIO.** Calcula los siguientes vectores:"
   ]
  },
  {
   "cell_type": "code",
   "execution_count": null,
   "metadata": {},
   "outputs": [],
   "source": [
    "#Ahora remplaza los nÃºmeros pares por el valor -1000 (hint: igual que en R)\n",
    "\n",
    "#Encuentra los nÃºmeros impares y reemplaza por -1\n",
    "\n",
    "#Escribe un vector y normalÃ­zalo (i.e. que sus entradas queden entre 0 y 1). Hint: usa el mÃ©todo max() y el min()\n",
    "\n",
    "#Ahora reemplaza todas las entradas que sean mayores o iguales que 0.5 por 1 y las que sean menores por -1"
   ]
  },
  {
   "cell_type": "markdown",
   "metadata": {},
   "source": [
    "### 2d-dimensional arrays\n",
    "- Se pueden crear con la misma sintaxis\n",
    "- Con el mÃ©todo `.shape` se puede saber su dimensiÃ³n\n",
    "- No se pueden poner distintos tipos de datos\n",
    "- IndexaciÃ³n se hace igual\n",
    "- Es fÃ¡cil indexar con `[m,n]` que con `[m][n]`"
   ]
  },
  {
   "cell_type": "code",
   "execution_count": null,
   "metadata": {},
   "outputs": [],
   "source": [
    "vec2d = np.array([[1, 2, 3],[4, 5, 6]])\n",
    "\n",
    "print(\"El vector construido es: \")\n",
    "print(vec2d)\n",
    "\n",
    "print(\"\\n\")\n",
    "print(\"Su dimensiÃ³n es: \")\n",
    "print(vec2d.shape)"
   ]
  },
  {
   "cell_type": "code",
   "execution_count": null,
   "metadata": {},
   "outputs": [],
   "source": [
    "print(\"La primera entrada es: \")\n",
    "print(vec2d[0])\n",
    "\n",
    "print(\"\\n\")\n",
    "print(\"El tercer elemento de la primera entrada es:\")\n",
    "print(vec2d[0][2])\n",
    "\n",
    "print(\"\\n\")\n",
    "print(\"El elemento segundo de las dos entradas son\")\n",
    "print(vec2d[ :, 1:2])\n",
    "\n",
    "print(\"\\n\")\n",
    "print(\"La segunda entrada es:\")\n",
    "print(vec2d[1, :])\n"
   ]
  },
  {
   "cell_type": "markdown",
   "metadata": {},
   "source": [
    "## Basics de anÃ¡lisis de datos"
   ]
  },
  {
   "cell_type": "markdown",
   "metadata": {},
   "source": [
    "- Igual que en R, es importante tener estadÃ­sticas de resumen: media, mediana, desviaciÃ³n estÃ¡ndar, correlaciones\n",
    "- NumPy tiene muchas funciones predefinidas con este propÃ³sito\n",
    "- Se puede generar cualquier variable aleatoria, ver [documentaciÃ³n](https://docs.scipy.org/doc/numpy-1.14.0/reference/routines.random.html)\n"
   ]
  },
  {
   "cell_type": "code",
   "execution_count": 30,
   "metadata": {},
   "outputs": [
    {
     "name": "stdout",
     "output_type": "stream",
     "text": [
      "\n",
      "\n",
      "El vector de normales y exponenciales simuladas es: \n",
      "\n",
      "\n",
      "[[ 0.0842842   2.93903539]\n",
      " [-0.42054951  1.12518947]\n",
      " [ 1.1452941   4.2086169 ]\n",
      " ...\n",
      " [ 0.93600361  2.47496618]\n",
      " [-0.65402259  7.90731632]\n",
      " [ 0.00889914  5.45272378]]\n",
      "\n",
      "\n",
      "Resultados normal: \n",
      "La media es 0.0007517338922186373\n",
      "La mediana es 0.003260934737028464\n",
      "La desviaciÃ³n estÃ¡ndar es 0.9913162860484611\n",
      "\n",
      "\n",
      "Resultados exponencial: \n",
      "La media es 5.0112355105588815\n",
      "La mediana es 3.420281211321738\n",
      "La desviaciÃ³n estÃ¡ndar es 5.055030271411581\n",
      "[[1. 1.]\n",
      " [1. 1.]]\n"
     ]
    }
   ],
   "source": [
    "muestra_normal = np.random.normal(0, 1, 10000)\n",
    "muestra_exp = np. random.exponential(5, 10000)\n",
    "\n",
    "vecsim = np.column_stack((muestra_normal, muestra_exp ))\n",
    "\n",
    "print(\"\\n\")\n",
    "print(\"El vector de normales y exponenciales simuladas es: \")\n",
    "\n",
    "print(\"\\n\")\n",
    "print(vecsim)\n",
    "\n",
    "print(\"\\n\")\n",
    "print(\"Resultados normal: \")\n",
    "print(\"La media es \" + str(np.mean(vecsim[:,0])))\n",
    "print(\"La mediana es \" + str(np.median(vecsim[:,0])))\n",
    "print(\"La desviaciÃ³n estÃ¡ndar es \" + str(np.std(vecsim[:,0])))\n",
    "\n",
    "\n",
    "print(\"\\n\")\n",
    "print(\"Resultados exponencial: \")\n",
    "print(\"La media es \" + str(np.mean(vecsim[:,1])))\n",
    "print(\"La mediana es \" + str(np.median(vecsim[:,1])))\n",
    "print(\"La desviaciÃ³n estÃ¡ndar es \" + str(np.std(vecsim[:,1])))\n",
    "\n",
    "print(np.corrcoef(vecsim[0,:], vecsim[1,:]))"
   ]
  },
  {
   "cell_type": "code",
   "execution_count": 34,
   "metadata": {},
   "outputs": [
    {
     "name": "stdout",
     "output_type": "stream",
     "text": [
      "El tamaÃ±o del arreglo es: \n"
     ]
    },
    {
     "data": {
      "text/plain": [
       "(10000, 2)"
      ]
     },
     "execution_count": 34,
     "metadata": {},
     "output_type": "execute_result"
    }
   ],
   "source": [
    "print(\"El tamaÃ±o del arreglo es: \")\n",
    "vecsim.shape"
   ]
  },
  {
   "cell_type": "code",
   "execution_count": 35,
   "metadata": {},
   "outputs": [
    {
     "name": "stdout",
     "output_type": "stream",
     "text": [
      "\n",
      "\n",
      "Y asÃ­ se ve: \n",
      "\n",
      "\n",
      "[[ 0.0842842   2.93903539]\n",
      " [-0.42054951  1.12518947]\n",
      " [ 1.1452941   4.2086169 ]\n",
      " ...\n",
      " [ 0.93600361  2.47496618]\n",
      " [-0.65402259  7.90731632]\n",
      " [ 0.00889914  5.45272378]]\n"
     ]
    }
   ],
   "source": [
    "print(\"\\n\")\n",
    "print(\"Y asÃ­ se ve: \")\n",
    "print(\"\\n\")\n",
    "print(vecsim)\n"
   ]
  },
  {
   "cell_type": "code",
   "execution_count": null,
   "metadata": {},
   "outputs": [],
   "source": [
    "print(\"La muestra de normales: \")\n",
    "vecsim[:,0]\n"
   ]
  },
  {
   "cell_type": "code",
   "execution_count": null,
   "metadata": {},
   "outputs": [],
   "source": [
    "print(\"La muestra de exponenciales: \")\n",
    "vecsim[:,1]\n"
   ]
  },
  {
   "cell_type": "markdown",
   "metadata": {},
   "source": [
    "## VisualizaciÃ³n\n",
    "- Existen varios paquetes para visualizaciÃ³n, pero el estrella es `matplotlib`\n",
    "- Permite hacer grÃ¡ficos de lÃ­neas, de dispersiÃ³n, \n",
    "- Permite cambiar escala de los ejes `plt.xscale('log')`"
   ]
  },
  {
   "cell_type": "markdown",
   "metadata": {},
   "source": [
    "### GrÃ¡fico de lÃ­neas\n",
    "\n",
    "- Ãštil para series de tiempo\n",
    "- Nos ayuda a ver tendencias\n",
    "\n",
    "*Sintaxis:* `plt.plot(x, y)`\n",
    "\n",
    "*Sintaxis:* Ejes con `plt.xlabel(\"eje x\")`\n",
    "\n",
    "*Sintaxis:* Ejes con `plt.ylabel(\"eje y\")`\n",
    "\n",
    "*Sintaxis:* Ejes con `plt.ylabel(\"titulo\")`\n"
   ]
  },
  {
   "cell_type": "code",
   "execution_count": 28,
   "metadata": {},
   "outputs": [
    {
     "ename": "NameError",
     "evalue": "name 'vecsim' is not defined",
     "output_type": "error",
     "traceback": [
      "\u001b[0;31m---------------------------------------------------------------------------\u001b[0m",
      "\u001b[0;31mNameError\u001b[0m                                 Traceback (most recent call last)",
      "\u001b[0;32m<ipython-input-28-c5b7ce4a395d>\u001b[0m in \u001b[0;36m<module>\u001b[0;34m()\u001b[0m\n\u001b[1;32m      1\u001b[0m \u001b[0;32mimport\u001b[0m \u001b[0mmatplotlib\u001b[0m\u001b[0;34m.\u001b[0m\u001b[0mpyplot\u001b[0m \u001b[0;32mas\u001b[0m \u001b[0mplt\u001b[0m\u001b[0;34m\u001b[0m\u001b[0m\n\u001b[1;32m      2\u001b[0m \u001b[0;34m\u001b[0m\u001b[0m\n\u001b[0;32m----> 3\u001b[0;31m \u001b[0mplt\u001b[0m\u001b[0;34m.\u001b[0m\u001b[0mplot\u001b[0m\u001b[0;34m(\u001b[0m\u001b[0mvecsim\u001b[0m\u001b[0;34m[\u001b[0m\u001b[0;36m0\u001b[0m\u001b[0;34m:\u001b[0m\u001b[0;36m100\u001b[0m\u001b[0;34m,\u001b[0m \u001b[0;36m0\u001b[0m\u001b[0;34m]\u001b[0m\u001b[0;34m,\u001b[0m \u001b[0mvecsim\u001b[0m\u001b[0;34m[\u001b[0m\u001b[0;36m0\u001b[0m\u001b[0;34m:\u001b[0m\u001b[0;36m100\u001b[0m\u001b[0;34m,\u001b[0m \u001b[0;36m1\u001b[0m\u001b[0;34m]\u001b[0m\u001b[0;34m)\u001b[0m\u001b[0;34m\u001b[0m\u001b[0m\n\u001b[0m\u001b[1;32m      4\u001b[0m \u001b[0mplt\u001b[0m\u001b[0;34m.\u001b[0m\u001b[0mxlabel\u001b[0m\u001b[0;34m(\u001b[0m\u001b[0;34m\"Simulaciones normales\"\u001b[0m\u001b[0;34m)\u001b[0m\u001b[0;34m\u001b[0m\u001b[0m\n\u001b[1;32m      5\u001b[0m \u001b[0mplt\u001b[0m\u001b[0;34m.\u001b[0m\u001b[0mylabel\u001b[0m\u001b[0;34m(\u001b[0m\u001b[0;34m\"Simulaciones exponenciales\"\u001b[0m\u001b[0;34m)\u001b[0m\u001b[0;34m\u001b[0m\u001b[0m\n",
      "\u001b[0;31mNameError\u001b[0m: name 'vecsim' is not defined"
     ]
    }
   ],
   "source": [
    "import matplotlib.pyplot as plt\n",
    "\n",
    "plt.plot(vecsim[0:100, 0], vecsim[0:100, 1])\n",
    "plt.xlabel(\"Simulaciones normales\")\n",
    "plt.ylabel(\"Simulaciones exponenciales\")\n",
    "plt.title(\"Simulaciones normales vs exponenciales\")\n",
    "plt.show()"
   ]
  },
  {
   "cell_type": "markdown",
   "metadata": {},
   "source": [
    "### GrÃ¡fico de dispersiÃ³n\n",
    "\n",
    "- Nos sirve para ver la relaciÃ³n entre dos variables numÃ©ricas\n",
    "- Nos ayuda a ver una posible correlaciÃ³n \n",
    "\n",
    "*Sintaxis:* `plt.scatter(x, y)`\n",
    "\n",
    "*Argumentos:* `scatter(x, y)`\n",
    "\n",
    "*Sintaxis:* `plt.yticks([...])` o bien `plt.yticks([...], [names])` para poner un nombre a los ticks\n",
    "\n",
    "*Sintaxis:* `range(inicio, fin, paso)`. Ojo, el fin es exclusivo, se detiene uno antes.\n",
    "\n"
   ]
  },
  {
   "cell_type": "code",
   "execution_count": 29,
   "metadata": {},
   "outputs": [
    {
     "name": "stdout",
     "output_type": "stream",
     "text": [
      "Help on function scatter in module matplotlib.pyplot:\n",
      "\n",
      "scatter(x, y, s=None, c=None, marker=None, cmap=None, norm=None, vmin=None, vmax=None, alpha=None, linewidths=None, verts=None, edgecolors=None, hold=None, data=None, **kwargs)\n",
      "    A scatter plot of *y* vs *x* with varying marker size and/or color.\n",
      "    \n",
      "    Parameters\n",
      "    ----------\n",
      "    x, y : array_like, shape (n, )\n",
      "        The data positions.\n",
      "    \n",
      "    s : scalar or array_like, shape (n, ), optional\n",
      "        The marker size in points**2.\n",
      "        Default is ``rcParams['lines.markersize'] ** 2``.\n",
      "    \n",
      "    c : color, sequence, or sequence of color, optional, default: 'b'\n",
      "        The marker color. Possible values:\n",
      "    \n",
      "        - A single color format string.\n",
      "        - A sequence of color specifications of length n.\n",
      "        - A sequence of n numbers to be mapped to colors using *cmap* and\n",
      "          *norm*.\n",
      "        - A 2-D array in which the rows are RGB or RGBA.\n",
      "    \n",
      "        Note that *c* should not be a single numeric RGB or RGBA sequence\n",
      "        because that is indistinguishable from an array of values to be\n",
      "        colormapped. If you want to specify the same RGB or RGBA value for\n",
      "        all points, use a 2-D array with a single row.\n",
      "    \n",
      "    marker : `~matplotlib.markers.MarkerStyle`, optional, default: 'o'\n",
      "        The marker style. *marker* can be either an instance of the class\n",
      "        or the text shorthand for a particular marker.\n",
      "        See `~matplotlib.markers` for more information marker styles.\n",
      "    \n",
      "    cmap : `~matplotlib.colors.Colormap`, optional, default: None\n",
      "        A `.Colormap` instance or registered colormap name. *cmap* is only\n",
      "        used if *c* is an array of floats. If ``None``, defaults to rc\n",
      "        ``image.cmap``.\n",
      "    \n",
      "    norm : `~matplotlib.colors.Normalize`, optional, default: None\n",
      "        A `.Normalize` instance is used to scale luminance data to 0, 1.\n",
      "        *norm* is only used if *c* is an array of floats. If *None*, use\n",
      "        the default `.colors.Normalize`.\n",
      "    \n",
      "    vmin, vmax : scalar, optional, default: None\n",
      "        *vmin* and *vmax* are used in conjunction with *norm* to normalize\n",
      "        luminance data. If None, the respective min and max of the color\n",
      "        array is used. *vmin* and *vmax* are ignored if you pass a *norm*\n",
      "        instance.\n",
      "    \n",
      "    alpha : scalar, optional, default: None\n",
      "        The alpha blending value, between 0 (transparent) and 1 (opaque).\n",
      "    \n",
      "    linewidths : scalar or array_like, optional, default: None\n",
      "        The linewidth of the marker edges. Note: The default *edgecolors*\n",
      "        is 'face'. You may want to change this as well.\n",
      "        If *None*, defaults to rcParams ``lines.linewidth``.\n",
      "    \n",
      "    verts : sequence of (x, y), optional\n",
      "        If *marker* is *None*, these vertices will be used to construct\n",
      "        the marker.  The center of the marker is located at (0, 0) in\n",
      "        normalized units.  The overall marker is rescaled by *s*.\n",
      "    \n",
      "    edgecolors : color or sequence of color, optional, default: 'face'\n",
      "        The edge color of the marker. Possible values:\n",
      "    \n",
      "        - 'face': The edge color will always be the same as the face color.\n",
      "        - 'none': No patch boundary will be drawn.\n",
      "        - A matplotib color.\n",
      "    \n",
      "        For non-filled markers, the *edgecolors* kwarg is ignored and\n",
      "        forced to 'face' internally.\n",
      "    \n",
      "    Returns\n",
      "    -------\n",
      "    paths : `~matplotlib.collections.PathCollection`\n",
      "    \n",
      "    Other Parameters\n",
      "    ----------------\n",
      "    **kwargs : `~matplotlib.collections.Collection` properties\n",
      "    \n",
      "    See Also\n",
      "    --------\n",
      "    plot : To plot scatter plots when markers are identical in size and\n",
      "        color.\n",
      "    \n",
      "    Notes\n",
      "    -----\n",
      "    \n",
      "    * The `.plot` function will be faster for scatterplots where markers\n",
      "      don't vary in size or color.\n",
      "    \n",
      "    * Any or all of *x*, *y*, *s*, and *c* may be masked arrays, in which\n",
      "      case all masks will be combined and only unmasked points will be\n",
      "      plotted.\n",
      "    \n",
      "    * Fundamentally, scatter works with 1-D arrays; *x*, *y*, *s*, and *c*\n",
      "      may be input as 2-D arrays, but within scatter they will be\n",
      "      flattened. The exception is *c*, which will be flattened only if its\n",
      "      size matches the size of *x* and *y*.\n",
      "    \n",
      "    .. note::\n",
      "        In addition to the above described arguments, this function can take a\n",
      "        **data** keyword argument. If such a **data** argument is given, the\n",
      "        following arguments are replaced by **data[<arg>]**:\n",
      "    \n",
      "        * All arguments with the following names: 'c', 'color', 'edgecolors', 'facecolor', 'facecolors', 'linewidths', 's', 'x', 'y'.\n",
      "\n"
     ]
    },
    {
     "ename": "NameError",
     "evalue": "name 'vecsim' is not defined",
     "output_type": "error",
     "traceback": [
      "\u001b[0;31m---------------------------------------------------------------------------\u001b[0m",
      "\u001b[0;31mNameError\u001b[0m                                 Traceback (most recent call last)",
      "\u001b[0;32m<ipython-input-29-cb45d8fba1b2>\u001b[0m in \u001b[0;36m<module>\u001b[0;34m()\u001b[0m\n\u001b[1;32m      1\u001b[0m \u001b[0mhelp\u001b[0m\u001b[0;34m(\u001b[0m\u001b[0mplt\u001b[0m\u001b[0;34m.\u001b[0m\u001b[0mscatter\u001b[0m\u001b[0;34m)\u001b[0m\u001b[0;34m\u001b[0m\u001b[0m\n\u001b[1;32m      2\u001b[0m \u001b[0mplt\u001b[0m\u001b[0;34m.\u001b[0m\u001b[0mxscale\u001b[0m\u001b[0;34m(\u001b[0m\u001b[0;34m'log'\u001b[0m\u001b[0;34m)\u001b[0m\u001b[0;34m\u001b[0m\u001b[0m\n\u001b[0;32m----> 3\u001b[0;31m \u001b[0mplt\u001b[0m\u001b[0;34m.\u001b[0m\u001b[0mscatter\u001b[0m\u001b[0;34m(\u001b[0m\u001b[0mvecsim\u001b[0m\u001b[0;34m[\u001b[0m\u001b[0;36m0\u001b[0m\u001b[0;34m:\u001b[0m\u001b[0;36m100\u001b[0m\u001b[0;34m,\u001b[0m \u001b[0;36m0\u001b[0m\u001b[0;34m]\u001b[0m\u001b[0;34m,\u001b[0m \u001b[0mvecsim\u001b[0m\u001b[0;34m[\u001b[0m\u001b[0;36m0\u001b[0m\u001b[0;34m:\u001b[0m\u001b[0;36m100\u001b[0m\u001b[0;34m,\u001b[0m \u001b[0;36m1\u001b[0m\u001b[0;34m]\u001b[0m\u001b[0;34m)\u001b[0m\u001b[0;34m\u001b[0m\u001b[0m\n\u001b[0m\u001b[1;32m      4\u001b[0m \u001b[0mplt\u001b[0m\u001b[0;34m.\u001b[0m\u001b[0myticks\u001b[0m\u001b[0;34m(\u001b[0m\u001b[0;34m[\u001b[0m\u001b[0mrange\u001b[0m\u001b[0;34m(\u001b[0m\u001b[0;36m0\u001b[0m\u001b[0;34m,\u001b[0m \u001b[0;36m10\u001b[0m\u001b[0;34m,\u001b[0m \u001b[0;36m2\u001b[0m\u001b[0;34m)\u001b[0m\u001b[0;34m]\u001b[0m\u001b[0;34m)\u001b[0m\u001b[0;34m\u001b[0m\u001b[0m\n\u001b[1;32m      5\u001b[0m \u001b[0mplt\u001b[0m\u001b[0;34m.\u001b[0m\u001b[0myticks\u001b[0m\u001b[0;34m(\u001b[0m\u001b[0;34m[\u001b[0m\u001b[0;36m0\u001b[0m\u001b[0;34m,\u001b[0m\u001b[0;36m2\u001b[0m\u001b[0;34m,\u001b[0m\u001b[0;36m4\u001b[0m\u001b[0;34m,\u001b[0m\u001b[0;36m6\u001b[0m\u001b[0;34m,\u001b[0m\u001b[0;36m8\u001b[0m\u001b[0;34m,\u001b[0m\u001b[0;36m10\u001b[0m\u001b[0;34m]\u001b[0m\u001b[0;34m,\u001b[0m \u001b[0;34m[\u001b[0m\u001b[0;34m'0e'\u001b[0m\u001b[0;34m,\u001b[0m\u001b[0;34m'2e'\u001b[0m\u001b[0;34m,\u001b[0m \u001b[0;34m'3e'\u001b[0m\u001b[0;34m,\u001b[0m \u001b[0;34m'4e'\u001b[0m\u001b[0;34m,\u001b[0m \u001b[0;34m'5e'\u001b[0m\u001b[0;34m,\u001b[0m\u001b[0;34m'6e'\u001b[0m\u001b[0;34m]\u001b[0m\u001b[0;34m)\u001b[0m\u001b[0;34m\u001b[0m\u001b[0m\n",
      "\u001b[0;31mNameError\u001b[0m: name 'vecsim' is not defined"
     ]
    },
    {
     "data": {
      "image/png": "[encoded data removed]",
      "text/plain": [
       "<Figure size 432x288 with 1 Axes>"
      ]
     },
     "metadata": {
      "needs_background": "light"
     },
     "output_type": "display_data"
    }
   ],
   "source": [
    "help(plt.scatter)\n",
    "plt.xscale('log')\n",
    "plt.scatter(vecsim[0:100, 0], vecsim[0:100, 1])\n",
    "plt.yticks([range(0, 10, 2)])\n",
    "plt.yticks([0,2,4,6,8,10], ['0e','2e', '3e', '4e', '5e','6e'])\n",
    "plt.show()"
   ]
  },
  {
   "cell_type": "markdown",
   "metadata": {},
   "source": [
    "### Histograma\n",
    "\n",
    "- Nos ayuda a ver distribuciÃ³n de UNA variable numÃ©rica\n",
    "\n",
    "*Sintaxis:* `plt.hist(x, y)`\n",
    "\n",
    "*Argumentos:* `hist(x, bins=None)`\n",
    "\n",
    "- `plt.clf()` nos ayuda a limpiar para poder plotear otra cosa. Si no lo hacemos y ponemos enseguida otra grÃ¡fica, las encimarÃ¡."
   ]
  },
  {
   "cell_type": "code",
   "execution_count": 31,
   "metadata": {},
   "outputs": [
    {
     "name": "stdout",
     "output_type": "stream",
     "text": [
      "\n",
      "\n",
      "Si no le damos el nÃºmero de bins, el default es 10\n"
     ]
    },
    {
     "data": {
      "image/png": "[encoded data removed]",
      "text/plain": [
       "<Figure size 432x288 with 1 Axes>"
      ]
     },
     "metadata": {
      "needs_background": "light"
     },
     "output_type": "display_data"
    }
   ],
   "source": [
    "print(\"\\n\")\n",
    "print(\"Si no le damos el nÃºmero de bins, el default es 10\")\n",
    "\n",
    "\n",
    "plt.hist(vecsim[0:100, 0])\n",
    "plt.show()\n",
    "\n"
   ]
  },
  {
   "cell_type": "code",
   "execution_count": 32,
   "metadata": {},
   "outputs": [
    {
     "name": "stdout",
     "output_type": "stream",
     "text": [
      "\n",
      "\n",
      "Ahora le damos un nÃºmero de bins de 20\n"
     ]
    },
    {
     "data": {
      "image/png": "[encoded data removed]",
      "text/plain": [
       "<Figure size 432x288 with 1 Axes>"
      ]
     },
     "metadata": {
      "needs_background": "light"
     },
     "output_type": "display_data"
    }
   ],
   "source": [
    "\n",
    "plt.clf()\n",
    "print(\"\\n\")\n",
    "print(\"Ahora le damos un nÃºmero de bins de 20\")\n",
    "\n",
    "plt.hist(vecsim[0:100, 0], 20)\n",
    "plt.show()\n",
    "\n"
   ]
  },
  {
   "cell_type": "code",
   "execution_count": 33,
   "metadata": {},
   "outputs": [
    {
     "name": "stdout",
     "output_type": "stream",
     "text": [
      "\n",
      "\n",
      "Ahora le damos un nÃºmero de bins de 5\n"
     ]
    },
    {
     "data": {
      "image/png": "[encoded data removed]",
      "text/plain": [
       "<Figure size 432x288 with 1 Axes>"
      ]
     },
     "metadata": {
      "needs_background": "light"
     },
     "output_type": "display_data"
    }
   ],
   "source": [
    "\n",
    "plt.clf()\n",
    "print(\"\\n\")\n",
    "print(\"Ahora le damos un nÃºmero de bins de 5\")\n",
    "plt.hist(vecsim[0:100, 0], 5)\n",
    "plt.show()"
   ]
  },
  {
   "cell_type": "code",
   "execution_count": null,
   "metadata": {},
   "outputs": [],
   "source": [
    "\n"
   ]
  },
  {
   "cell_type": "code",
   "execution_count": null,
   "metadata": {},
   "outputs": [],
   "source": []
  },
  {
   "cell_type": "code",
   "execution_count": null,
   "metadata": {},
   "outputs": [],
   "source": []
  },
  {
   "cell_type": "code",
   "execution_count": null,
   "metadata": {},
   "outputs": [],
   "source": []
  },
  {
   "cell_type": "code",
   "execution_count": null,
   "metadata": {},
   "outputs": [],
   "source": []
  },
  {
   "cell_type": "code",
   "execution_count": null,
   "metadata": {},
   "outputs": [],
   "source": []
  },
  {
   "cell_type": "code",
   "execution_count": null,
   "metadata": {},
   "outputs": [],
   "source": []
  },
  {
   "cell_type": "code",
   "execution_count": null,
   "metadata": {},
   "outputs": [],
   "source": []
  },
  {
   "cell_type": "code",
   "execution_count": null,
   "metadata": {},
   "outputs": [],
   "source": []
  },
  {
   "cell_type": "code",
   "execution_count": null,
   "metadata": {},
   "outputs": [],
   "source": []
  },
  {
   "cell_type": "code",
   "execution_count": null,
   "metadata": {},
   "outputs": [],
   "source": []
  },
  {
   "cell_type": "code",
   "execution_count": null,
   "metadata": {},
   "outputs": [],
   "source": []
  },
  {
   "cell_type": "code",
   "execution_count": null,
   "metadata": {},
   "outputs": [],
   "source": []
  },
  {
   "cell_type": "code",
   "execution_count": null,
   "metadata": {},
   "outputs": [],
   "source": []
  },
  {
   "cell_type": "code",
   "execution_count": null,
   "metadata": {},
   "outputs": [],
   "source": []
  },
  {
   "cell_type": "code",
   "execution_count": null,
   "metadata": {},
   "outputs": [],
   "source": []
  },
  {
   "cell_type": "code",
   "execution_count": null,
   "metadata": {},
   "outputs": [],
   "source": []
  },
  {
   "cell_type": "code",
   "execution_count": null,
   "metadata": {},
   "outputs": [],
   "source": []
  },
  {
   "cell_type": "code",
   "execution_count": null,
   "metadata": {},
   "outputs": [],
   "source": []
  },
  {
   "cell_type": "code",
   "execution_count": null,
   "metadata": {},
   "outputs": [],
   "source": []
  },
  {
   "cell_type": "code",
   "execution_count": null,
   "metadata": {},
   "outputs": [],
   "source": []
  },
  {
   "cell_type": "code",
   "execution_count": null,
   "metadata": {},
   "outputs": [],
   "source": []
  },
  {
   "cell_type": "code",
   "execution_count": null,
   "metadata": {},
   "outputs": [],
   "source": []
  },
  {
   "cell_type": "code",
   "execution_count": null,
   "metadata": {},
   "outputs": [],
   "source": []
  },
  {
   "cell_type": "code",
   "execution_count": null,
   "metadata": {},
   "outputs": [],
   "source": []
  },
  {
   "cell_type": "code",
   "execution_count": null,
   "metadata": {},
   "outputs": [],
   "source": []
  },
  {
   "cell_type": "code",
   "execution_count": null,
   "metadata": {},
   "outputs": [],
   "source": []
  },
  {
   "cell_type": "code",
   "execution_count": null,
   "metadata": {},
   "outputs": [],
   "source": []
  }
 ],
 "metadata": {
  "kernelspec": {
   "display_name": "Python 3",
   "language": "python",
   "name": "python3"
  },
  "language_info": {
   "codemirror_mode": {
    "name": "ipython",
    "version": 3
   },
   "file_extension": ".py",
   "mimetype": "text/x-python",
   "name": "python",
   "nbconvert_exporter": "python",
   "pygments_lexer": "ipython3",
   "version": "3.7.0"
  }
 },
 "nbformat": 4,
 "nbformat_minor": 2
}
